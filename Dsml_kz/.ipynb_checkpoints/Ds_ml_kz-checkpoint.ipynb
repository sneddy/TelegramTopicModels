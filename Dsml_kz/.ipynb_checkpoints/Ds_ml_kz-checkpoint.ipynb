{
 "cells": [
  {
   "cell_type": "markdown",
   "metadata": {},
   "source": [
    "# Датасет по данным чятика\n",
    "\n",
    "### Немного упоролся и решил поизучать чего понапописал народ в чатике ds/ml.kz\n",
    "\n",
    "Чтобы вытащить данные буду использовать библиотеку **telethon**\n",
    "\n",
    "Для начала авторизуемся"
   ]
  },
  {
   "cell_type": "code",
   "execution_count": 1,
   "metadata": {},
   "outputs": [
    {
     "data": {
      "text/html": [
       "<style>.container { width:90% !important; }</style>"
      ],
      "text/plain": [
       "<IPython.core.display.HTML object>"
      ]
     },
     "metadata": {},
     "output_type": "display_data"
    }
   ],
   "source": [
    "from IPython.core.display import display, HTML\n",
    "display(HTML(\"<style>.container { width:90% !important; }</style>\"))\n",
    "\n",
    "from telethon import TelegramClient\n",
    "\n",
    "import pandas as pd\n",
    "import numpy as np\n",
    "\n",
    "from collections import Counter\n",
    "from time import time\n",
    "\n",
    "api_id = XXX\n",
    "api_hash = 'XXX'\n",
    "phone_number = '+XXX'\n",
    "\n",
    "client = TelegramClient('session_id', api_id=api_id, api_hash=api_hash)\n",
    "\n",
    "# client.start()\n",
    "assert client.connect()\n",
    "\n",
    "if not client.is_user_authorized():\n",
    "    client.send_code_request(phone_number)\n",
    "    me = client.sign_in(phone_number, input('Enter code: '))\n",
    "    print(me.stringify())\n",
    "    \n",
    "chat_id = -1001132423352"
   ]
  },
  {
   "cell_type": "markdown",
   "metadata": {},
   "source": [
    "Немного туповатый код, так как я для начала оценивал скорость скачивания сообщений. Оказалось порядка 20 сообщений в секунду. Негусто так то, учитывая, что бывают чатики, которые временами генерят контент с такой скоростью) Но нам хватит"
   ]
  },
  {
   "cell_type": "code",
   "execution_count": 2,
   "metadata": {},
   "outputs": [
    {
     "name": "stdout",
     "output_type": "stream",
     "text": [
      "8059 messages loads about 148 seconds\n",
      "Last message is 'None'\n",
      "date:  2017-10-08 11:33:22\n",
      "=================================\n"
     ]
    }
   ],
   "source": [
    "from time import time\n",
    "# last_messages_list = [10, 50, 100, 250, 500, 1000, 2500, 5000, 10000, 100000]\n",
    "last_messages_list = [100000]\n",
    "load_duration_dict = {}\n",
    "for mess_count in last_messages_list:\n",
    "    t_start = time()\n",
    "    messages = client.get_message_history(chat_id, limit=mess_count)\n",
    "    load_duration_dict[mess_count] = int(time() - t_start)\n",
    "    print('{0} messages loads about {1} seconds'.format(len(messages), load_duration_dict[mess_count]))\n",
    "    print('Last message is \\'{}\\''.format(messages[-1].message))\n",
    "    print('date: ', messages[-1].date)\n",
    "    print('=================================')"
   ]
  },
  {
   "cell_type": "markdown",
   "metadata": {},
   "source": [
    "### Вот так я могу обновлять свои данные, просто догружая все сообщения после последнего сохраненного"
   ]
  },
  {
   "cell_type": "code",
   "execution_count": 253,
   "metadata": {},
   "outputs": [
    {
     "name": "stdout",
     "output_type": "stream",
     "text": [
      "я имею ввиду изучать оба на уровне хотя бы graduate level engineer\n",
      "и то и то - это хобби)\n",
      "Если я правильно понял :)\n",
      "Одно другому никак не мешает ведь\n",
      "есть олимпиадники асм или software engineers которые паралельно занимаются мл/дс? хотел проконсультироваться по сложности обучения в двух направлениях\n"
     ]
    }
   ],
   "source": [
    "last_messages = client.get_message_history(chat_id, min_id=messages[0].id, limit=100500)\n",
    "for mes in last_messages:\n",
    "    print(mes.message)"
   ]
  },
  {
   "cell_type": "markdown",
   "metadata": {},
   "source": [
    "### Немного почистил данные от вспомогательных сообщений, которые усложняют процессинг"
   ]
  },
  {
   "cell_type": "code",
   "execution_count": 4,
   "metadata": {
    "collapsed": true
   },
   "outputs": [],
   "source": [
    "import re\n",
    "\n",
    "entry_messages = []\n",
    "work_messages = []\n",
    "# old_messages = messages\n",
    "for mes in messages:\n",
    "    try:\n",
    "        mes.media\n",
    "        work_messages.append(mes)\n",
    "    except:\n",
    "        entry_messages.append(mes)\n",
    "messages = work_messages"
   ]
  },
  {
   "cell_type": "markdown",
   "metadata": {},
   "source": [
    "### Чуть посмотрел на эти самые вспомогательные сообщения, посчитал кто как часто их генерит"
   ]
  },
  {
   "cell_type": "code",
   "execution_count": 5,
   "metadata": {},
   "outputs": [
    {
     "name": "stdout",
     "output_type": "stream",
     "text": [
      "493\n"
     ]
    },
    {
     "data": {
      "text/plain": [
       "[('cSneddy', 16),\n",
       " ('higgsfield', 5),\n",
       " ('shatzibitten', 4),\n",
       " ('kathrine_sdu', 4),\n",
       " ('rauan92', 3),\n",
       " ('Sinchev', 3),\n",
       " ('AzatRZ', 3),\n",
       " ('ardulat', 3),\n",
       " ('None/Alibek', 3),\n",
       " ('None/Айдос', 3)]"
      ]
     },
     "execution_count": 5,
     "metadata": {},
     "output_type": "execute_result"
    }
   ],
   "source": [
    "from collections import Counter\n",
    "users = []\n",
    "users_ids = []\n",
    "for mes in entry_messages:\n",
    "    username = mes.sender.username\n",
    "    users_ids.append(mes.from_id)\n",
    "    if username:\n",
    "        users.append(username)\n",
    "    else:\n",
    "        users.append(str(mes.sender.last_name) + '/' + str(mes.sender.first_name))\n",
    "    \n",
    "print(len(Counter(users).most_common()))\n",
    "Counter(users).most_common(10)"
   ]
  },
  {
   "cell_type": "markdown",
   "metadata": {},
   "source": [
    "### Построил собственно датасет из самого необходимого\n",
    "\n",
    "Также удалил всякую пунктуацию и построил себе айдишку пользователя из имени, фамилии, логина"
   ]
  },
  {
   "cell_type": "code",
   "execution_count": 7,
   "metadata": {},
   "outputs": [
    {
     "data": {
      "text/html": [
       "<div>\n",
       "<style>\n",
       "    .dataframe thead tr:only-child th {\n",
       "        text-align: right;\n",
       "    }\n",
       "\n",
       "    .dataframe thead th {\n",
       "        text-align: left;\n",
       "    }\n",
       "\n",
       "    .dataframe tbody tr th {\n",
       "        vertical-align: top;\n",
       "    }\n",
       "</style>\n",
       "<table border=\"1\" class=\"dataframe\">\n",
       "  <thead>\n",
       "    <tr style=\"text-align: right;\">\n",
       "      <th></th>\n",
       "      <th>mes_date</th>\n",
       "      <th>text</th>\n",
       "      <th>is_media</th>\n",
       "      <th>username</th>\n",
       "      <th>writer_id</th>\n",
       "      <th>first_name</th>\n",
       "      <th>last_name</th>\n",
       "      <th>chatname</th>\n",
       "    </tr>\n",
       "  </thead>\n",
       "  <tbody>\n",
       "    <tr>\n",
       "      <th>7467</th>\n",
       "      <td>2017-10-08 11:39:58</td>\n",
       "      <td>ануар можно мне сразу админство плс</td>\n",
       "      <td>False</td>\n",
       "      <td></td>\n",
       "      <td>172015031</td>\n",
       "      <td>Yeldos</td>\n",
       "      <td>Balgabekov</td>\n",
       "      <td>Balgabekov_Yeldos()</td>\n",
       "    </tr>\n",
       "    <tr>\n",
       "      <th>7466</th>\n",
       "      <td>2017-10-08 11:45:25</td>\n",
       "      <td>крч всем привет создал конфу в телеграмме для ...</td>\n",
       "      <td>False</td>\n",
       "      <td>cSneddy</td>\n",
       "      <td>212657982</td>\n",
       "      <td>Пельмешка</td>\n",
       "      <td>Sneddy</td>\n",
       "      <td>Sneddy_Пельмешка(cSneddy)</td>\n",
       "    </tr>\n",
       "    <tr>\n",
       "      <th>7465</th>\n",
       "      <td>2017-10-08 12:17:14</td>\n",
       "      <td>запинь</td>\n",
       "      <td>False</td>\n",
       "      <td>hoogleraar</td>\n",
       "      <td>108539635</td>\n",
       "      <td>Дархан</td>\n",
       "      <td></td>\n",
       "      <td>_Дархан(hoogleraar)</td>\n",
       "    </tr>\n",
       "    <tr>\n",
       "      <th>7464</th>\n",
       "      <td>2017-10-08 12:52:51</td>\n",
       "      <td>всем привет</td>\n",
       "      <td>False</td>\n",
       "      <td></td>\n",
       "      <td>50045174</td>\n",
       "      <td>Renat</td>\n",
       "      <td>Alimbekov</td>\n",
       "      <td>Alimbekov_Renat()</td>\n",
       "    </tr>\n",
       "    <tr>\n",
       "      <th>7462</th>\n",
       "      <td>2017-10-08 13:03:36</td>\n",
       "      <td>привет</td>\n",
       "      <td>False</td>\n",
       "      <td>cSneddy</td>\n",
       "      <td>212657982</td>\n",
       "      <td>Пельмешка</td>\n",
       "      <td>Sneddy</td>\n",
       "      <td>Sneddy_Пельмешка(cSneddy)</td>\n",
       "    </tr>\n",
       "    <tr>\n",
       "      <th>7461</th>\n",
       "      <td>2017-10-08 13:06:10</td>\n",
       "      <td>добавьте аватарку на канал плиз</td>\n",
       "      <td>False</td>\n",
       "      <td>adilkhash</td>\n",
       "      <td>151436083</td>\n",
       "      <td>Adil</td>\n",
       "      <td></td>\n",
       "      <td>_Adil(adilkhash)</td>\n",
       "    </tr>\n",
       "    <tr>\n",
       "      <th>7460</th>\n",
       "      <td>2017-10-08 13:06:16</td>\n",
       "      <td>иначе затеряется</td>\n",
       "      <td>False</td>\n",
       "      <td>adilkhash</td>\n",
       "      <td>151436083</td>\n",
       "      <td>Adil</td>\n",
       "      <td></td>\n",
       "      <td>_Adil(adilkhash)</td>\n",
       "    </tr>\n",
       "    <tr>\n",
       "      <th>7459</th>\n",
       "      <td>2017-10-08 13:06:22</td>\n",
       "      <td>тьфу группу</td>\n",
       "      <td>False</td>\n",
       "      <td>adilkhash</td>\n",
       "      <td>151436083</td>\n",
       "      <td>Adil</td>\n",
       "      <td></td>\n",
       "      <td>_Adil(adilkhash)</td>\n",
       "    </tr>\n",
       "    <tr>\n",
       "      <th>7457</th>\n",
       "      <td>2017-10-08 13:15:41</td>\n",
       "      <td>пасиба</td>\n",
       "      <td>False</td>\n",
       "      <td>adilkhash</td>\n",
       "      <td>151436083</td>\n",
       "      <td>Adil</td>\n",
       "      <td></td>\n",
       "      <td>_Adil(adilkhash)</td>\n",
       "    </tr>\n",
       "    <tr>\n",
       "      <th>7456</th>\n",
       "      <td>2017-10-08 13:21:15</td>\n",
       "      <td>кстати ребят у меня в телеграме есть канал он ...</td>\n",
       "      <td>False</td>\n",
       "      <td>adilkhash</td>\n",
       "      <td>151436083</td>\n",
       "      <td>Adil</td>\n",
       "      <td></td>\n",
       "      <td>_Adil(adilkhash)</td>\n",
       "    </tr>\n",
       "  </tbody>\n",
       "</table>\n",
       "</div>"
      ],
      "text/plain": [
       "                mes_date                                               text  \\\n",
       "7467 2017-10-08 11:39:58                ануар можно мне сразу админство плс   \n",
       "7466 2017-10-08 11:45:25  крч всем привет создал конфу в телеграмме для ...   \n",
       "7465 2017-10-08 12:17:14                                            запинь    \n",
       "7464 2017-10-08 12:52:51                                        всем привет   \n",
       "7462 2017-10-08 13:03:36                                            привет    \n",
       "7461 2017-10-08 13:06:10                    добавьте аватарку на канал плиз   \n",
       "7460 2017-10-08 13:06:16                                   иначе затеряется   \n",
       "7459 2017-10-08 13:06:22                                        тьфу группу   \n",
       "7457 2017-10-08 13:15:41                                            пасиба    \n",
       "7456 2017-10-08 13:21:15  кстати ребят у меня в телеграме есть канал он ...   \n",
       "\n",
       "      is_media    username  writer_id first_name   last_name  \\\n",
       "7467     False              172015031     Yeldos  Balgabekov   \n",
       "7466     False     cSneddy  212657982  Пельмешка      Sneddy   \n",
       "7465     False  hoogleraar  108539635     Дархан               \n",
       "7464     False               50045174      Renat   Alimbekov   \n",
       "7462     False     cSneddy  212657982  Пельмешка      Sneddy   \n",
       "7461     False   adilkhash  151436083       Adil               \n",
       "7460     False   adilkhash  151436083       Adil               \n",
       "7459     False   adilkhash  151436083       Adil               \n",
       "7457     False   adilkhash  151436083       Adil               \n",
       "7456     False   adilkhash  151436083       Adil               \n",
       "\n",
       "                       chatname  \n",
       "7467        Balgabekov_Yeldos()  \n",
       "7466  Sneddy_Пельмешка(cSneddy)  \n",
       "7465        _Дархан(hoogleraar)  \n",
       "7464          Alimbekov_Renat()  \n",
       "7462  Sneddy_Пельмешка(cSneddy)  \n",
       "7461           _Adil(adilkhash)  \n",
       "7460           _Adil(adilkhash)  \n",
       "7459           _Adil(adilkhash)  \n",
       "7457           _Adil(adilkhash)  \n",
       "7456           _Adil(adilkhash)  "
      ]
     },
     "execution_count": 7,
     "metadata": {},
     "output_type": "execute_result"
    }
   ],
   "source": [
    "corpus = pd.DataFrame(data = {\n",
    "    'text': [mes.message for mes in messages],\n",
    "    'is_media': [not mes.media == None for mes in messages],\n",
    "    'is_bot': [mes.sender.bot for mes in messages],\n",
    "    'writer_id': [mes.from_id for mes in messages],\n",
    "    'username': [mes.sender.username for mes in messages],\n",
    "    'first_name': [mes.sender.first_name for mes in messages],\n",
    "    'last_name': [mes.sender.last_name for mes in messages],\n",
    "    'mes_date': [mes.date for mes in messages],\n",
    "    \n",
    "})\n",
    "corpus = corpus[~corpus.is_bot]\n",
    "corpus = corpus[['mes_date', 'text', 'is_media', 'username', 'writer_id', 'first_name', 'last_name']]\n",
    "corpus.text = corpus.text.fillna('').astype(str)\n",
    "\n",
    "def remove_links_and_quotes(text):\n",
    "    return ' '.join([word for word in text.split() if 'http' not in word and '@' not in word])\n",
    "corpus.text = corpus.text.apply(lambda x: remove_links_and_quotes(x))\n",
    "\n",
    "corpus = corpus[corpus.text.apply(lambda x: len(x) > 0)]\n",
    "corpus.text = corpus.text.apply(lambda x: ' '.join(re.split('\\W+', x.lower())))\n",
    "corpus.sort_values('mes_date', inplace=True, ascending=True)\n",
    "\n",
    "corpus.fillna('', inplace=True)\n",
    "corpus['chatname'] = corpus['last_name'] + '_' + corpus['first_name'] + '(' + corpus['username'] + ')'\n",
    "\n",
    "corpus.to_csv('dsml_chat.csv', index=None)\n",
    "\n",
    "corpus.head(10)"
   ]
  },
  {
   "cell_type": "code",
   "execution_count": 48,
   "metadata": {},
   "outputs": [
    {
     "data": {
      "text/html": [
       "<div>\n",
       "<style>\n",
       "    .dataframe thead tr:only-child th {\n",
       "        text-align: right;\n",
       "    }\n",
       "\n",
       "    .dataframe thead th {\n",
       "        text-align: left;\n",
       "    }\n",
       "\n",
       "    .dataframe tbody tr th {\n",
       "        vertical-align: top;\n",
       "    }\n",
       "</style>\n",
       "<table border=\"1\" class=\"dataframe\">\n",
       "  <thead>\n",
       "    <tr style=\"text-align: right;\">\n",
       "      <th></th>\n",
       "      <th>mes_date</th>\n",
       "      <th>text</th>\n",
       "      <th>is_media</th>\n",
       "      <th>username</th>\n",
       "      <th>writer_id</th>\n",
       "      <th>first_name</th>\n",
       "      <th>last_name</th>\n",
       "      <th>chatname</th>\n",
       "    </tr>\n",
       "  </thead>\n",
       "  <tbody>\n",
       "    <tr>\n",
       "      <th>0</th>\n",
       "      <td>2017-10-08 11:39:58</td>\n",
       "      <td>ануар можно мне сразу админство плс</td>\n",
       "      <td>False</td>\n",
       "      <td></td>\n",
       "      <td>172015031</td>\n",
       "      <td>Yeldos</td>\n",
       "      <td>Balgabekov</td>\n",
       "      <td>Balgabekov_Yeldos()</td>\n",
       "    </tr>\n",
       "    <tr>\n",
       "      <th>1</th>\n",
       "      <td>2017-10-08 11:45:25</td>\n",
       "      <td>крч всем привет создал конфу в телеграмме для ...</td>\n",
       "      <td>False</td>\n",
       "      <td>cSneddy</td>\n",
       "      <td>212657982</td>\n",
       "      <td>Пельмешка</td>\n",
       "      <td>Sneddy</td>\n",
       "      <td>Sneddy_Пельмешка(cSneddy)</td>\n",
       "    </tr>\n",
       "    <tr>\n",
       "      <th>2</th>\n",
       "      <td>2017-10-08 12:17:14</td>\n",
       "      <td>запинь</td>\n",
       "      <td>False</td>\n",
       "      <td>hoogleraar</td>\n",
       "      <td>108539635</td>\n",
       "      <td>Дархан</td>\n",
       "      <td></td>\n",
       "      <td>_Дархан(hoogleraar)</td>\n",
       "    </tr>\n",
       "    <tr>\n",
       "      <th>3</th>\n",
       "      <td>2017-10-08 12:52:51</td>\n",
       "      <td>всем привет</td>\n",
       "      <td>False</td>\n",
       "      <td></td>\n",
       "      <td>50045174</td>\n",
       "      <td>Renat</td>\n",
       "      <td>Alimbekov</td>\n",
       "      <td>Alimbekov_Renat()</td>\n",
       "    </tr>\n",
       "    <tr>\n",
       "      <th>4</th>\n",
       "      <td>2017-10-08 13:01:34</td>\n",
       "      <td></td>\n",
       "      <td>True</td>\n",
       "      <td>adilkhash</td>\n",
       "      <td>151436083</td>\n",
       "      <td>Adil</td>\n",
       "      <td></td>\n",
       "      <td>_Adil(adilkhash)</td>\n",
       "    </tr>\n",
       "  </tbody>\n",
       "</table>\n",
       "</div>"
      ],
      "text/plain": [
       "             mes_date                                               text  \\\n",
       "0 2017-10-08 11:39:58                ануар можно мне сразу админство плс   \n",
       "1 2017-10-08 11:45:25  крч всем привет создал конфу в телеграмме для ...   \n",
       "2 2017-10-08 12:17:14                                            запинь    \n",
       "3 2017-10-08 12:52:51                                        всем привет   \n",
       "4 2017-10-08 13:01:34                                                      \n",
       "\n",
       "   is_media    username  writer_id first_name   last_name  \\\n",
       "0     False              172015031     Yeldos  Balgabekov   \n",
       "1     False     cSneddy  212657982  Пельмешка      Sneddy   \n",
       "2     False  hoogleraar  108539635     Дархан               \n",
       "3     False               50045174      Renat   Alimbekov   \n",
       "4      True   adilkhash  151436083       Adil               \n",
       "\n",
       "                    chatname  \n",
       "0        Balgabekov_Yeldos()  \n",
       "1  Sneddy_Пельмешка(cSneddy)  \n",
       "2        _Дархан(hoogleraar)  \n",
       "3          Alimbekov_Renat()  \n",
       "4           _Adil(adilkhash)  "
      ]
     },
     "execution_count": 48,
     "metadata": {},
     "output_type": "execute_result"
    }
   ],
   "source": [
    "corpus = pd.read_csv('dsml_chat.csv')\n",
    "corpus.fillna('', inplace=True)\n",
    "corpus.mes_date = pd.to_datetime(corpus.mes_date)\n",
    "corpus.head()"
   ]
  },
  {
   "cell_type": "code",
   "execution_count": 8,
   "metadata": {},
   "outputs": [
    {
     "name": "stdout",
     "output_type": "stream",
     "text": [
      "[nltk_data] Downloading package punkt to /home/sneddy/nltk_data...\n",
      "[nltk_data]   Package punkt is already up-to-date!\n",
      "[nltk_data] Downloading package stopwords to /home/sneddy/nltk_data...\n",
      "[nltk_data]   Package stopwords is already up-to-date!\n"
     ]
    },
    {
     "data": {
      "text/html": [
       "<div>\n",
       "<style>\n",
       "    .dataframe thead tr:only-child th {\n",
       "        text-align: right;\n",
       "    }\n",
       "\n",
       "    .dataframe thead th {\n",
       "        text-align: left;\n",
       "    }\n",
       "\n",
       "    .dataframe tbody tr th {\n",
       "        vertical-align: top;\n",
       "    }\n",
       "</style>\n",
       "<table border=\"1\" class=\"dataframe\">\n",
       "  <thead>\n",
       "    <tr style=\"text-align: right;\">\n",
       "      <th></th>\n",
       "      <th>mes_date</th>\n",
       "      <th>text</th>\n",
       "      <th>is_media</th>\n",
       "      <th>username</th>\n",
       "      <th>writer_id</th>\n",
       "      <th>first_name</th>\n",
       "      <th>last_name</th>\n",
       "      <th>chatname</th>\n",
       "    </tr>\n",
       "  </thead>\n",
       "  <tbody>\n",
       "    <tr>\n",
       "      <th>7467</th>\n",
       "      <td>2017-10-08 11:39:58</td>\n",
       "      <td>ануар сразу админство плс</td>\n",
       "      <td>False</td>\n",
       "      <td></td>\n",
       "      <td>172015031</td>\n",
       "      <td>Yeldos</td>\n",
       "      <td>Balgabekov</td>\n",
       "      <td>Balgabekov_Yeldos()</td>\n",
       "    </tr>\n",
       "    <tr>\n",
       "      <th>7466</th>\n",
       "      <td>2017-10-08 11:45:25</td>\n",
       "      <td>крч всем привет создал конфу телеграмме обсужд...</td>\n",
       "      <td>False</td>\n",
       "      <td>cSneddy</td>\n",
       "      <td>212657982</td>\n",
       "      <td>Пельмешка</td>\n",
       "      <td>Sneddy</td>\n",
       "      <td>Sneddy_Пельмешка(cSneddy)</td>\n",
       "    </tr>\n",
       "    <tr>\n",
       "      <th>7465</th>\n",
       "      <td>2017-10-08 12:17:14</td>\n",
       "      <td>запинь</td>\n",
       "      <td>False</td>\n",
       "      <td>hoogleraar</td>\n",
       "      <td>108539635</td>\n",
       "      <td>Дархан</td>\n",
       "      <td></td>\n",
       "      <td>_Дархан(hoogleraar)</td>\n",
       "    </tr>\n",
       "    <tr>\n",
       "      <th>7464</th>\n",
       "      <td>2017-10-08 12:52:51</td>\n",
       "      <td>всем привет</td>\n",
       "      <td>False</td>\n",
       "      <td></td>\n",
       "      <td>50045174</td>\n",
       "      <td>Renat</td>\n",
       "      <td>Alimbekov</td>\n",
       "      <td>Alimbekov_Renat()</td>\n",
       "    </tr>\n",
       "    <tr>\n",
       "      <th>7462</th>\n",
       "      <td>2017-10-08 13:03:36</td>\n",
       "      <td>привет</td>\n",
       "      <td>False</td>\n",
       "      <td>cSneddy</td>\n",
       "      <td>212657982</td>\n",
       "      <td>Пельмешка</td>\n",
       "      <td>Sneddy</td>\n",
       "      <td>Sneddy_Пельмешка(cSneddy)</td>\n",
       "    </tr>\n",
       "    <tr>\n",
       "      <th>7461</th>\n",
       "      <td>2017-10-08 13:06:10</td>\n",
       "      <td>добавьте аватарку канал плиз</td>\n",
       "      <td>False</td>\n",
       "      <td>adilkhash</td>\n",
       "      <td>151436083</td>\n",
       "      <td>Adil</td>\n",
       "      <td></td>\n",
       "      <td>_Adil(adilkhash)</td>\n",
       "    </tr>\n",
       "    <tr>\n",
       "      <th>7460</th>\n",
       "      <td>2017-10-08 13:06:16</td>\n",
       "      <td>иначе затеряется</td>\n",
       "      <td>False</td>\n",
       "      <td>adilkhash</td>\n",
       "      <td>151436083</td>\n",
       "      <td>Adil</td>\n",
       "      <td></td>\n",
       "      <td>_Adil(adilkhash)</td>\n",
       "    </tr>\n",
       "    <tr>\n",
       "      <th>7459</th>\n",
       "      <td>2017-10-08 13:06:22</td>\n",
       "      <td>тьфу группу</td>\n",
       "      <td>False</td>\n",
       "      <td>adilkhash</td>\n",
       "      <td>151436083</td>\n",
       "      <td>Adil</td>\n",
       "      <td></td>\n",
       "      <td>_Adil(adilkhash)</td>\n",
       "    </tr>\n",
       "    <tr>\n",
       "      <th>7457</th>\n",
       "      <td>2017-10-08 13:15:41</td>\n",
       "      <td>пасиба</td>\n",
       "      <td>False</td>\n",
       "      <td>adilkhash</td>\n",
       "      <td>151436083</td>\n",
       "      <td>Adil</td>\n",
       "      <td></td>\n",
       "      <td>_Adil(adilkhash)</td>\n",
       "    </tr>\n",
       "    <tr>\n",
       "      <th>7456</th>\n",
       "      <td>2017-10-08 13:21:15</td>\n",
       "      <td>кстати ребят телеграме канал основном тему раз...</td>\n",
       "      <td>False</td>\n",
       "      <td>adilkhash</td>\n",
       "      <td>151436083</td>\n",
       "      <td>Adil</td>\n",
       "      <td></td>\n",
       "      <td>_Adil(adilkhash)</td>\n",
       "    </tr>\n",
       "  </tbody>\n",
       "</table>\n",
       "</div>"
      ],
      "text/plain": [
       "                mes_date                                               text  \\\n",
       "7467 2017-10-08 11:39:58                          ануар сразу админство плс   \n",
       "7466 2017-10-08 11:45:25  крч всем привет создал конфу телеграмме обсужд...   \n",
       "7465 2017-10-08 12:17:14                                             запинь   \n",
       "7464 2017-10-08 12:52:51                                        всем привет   \n",
       "7462 2017-10-08 13:03:36                                             привет   \n",
       "7461 2017-10-08 13:06:10                       добавьте аватарку канал плиз   \n",
       "7460 2017-10-08 13:06:16                                   иначе затеряется   \n",
       "7459 2017-10-08 13:06:22                                        тьфу группу   \n",
       "7457 2017-10-08 13:15:41                                             пасиба   \n",
       "7456 2017-10-08 13:21:15  кстати ребят телеграме канал основном тему раз...   \n",
       "\n",
       "      is_media    username  writer_id first_name   last_name  \\\n",
       "7467     False              172015031     Yeldos  Balgabekov   \n",
       "7466     False     cSneddy  212657982  Пельмешка      Sneddy   \n",
       "7465     False  hoogleraar  108539635     Дархан               \n",
       "7464     False               50045174      Renat   Alimbekov   \n",
       "7462     False     cSneddy  212657982  Пельмешка      Sneddy   \n",
       "7461     False   adilkhash  151436083       Adil               \n",
       "7460     False   adilkhash  151436083       Adil               \n",
       "7459     False   adilkhash  151436083       Adil               \n",
       "7457     False   adilkhash  151436083       Adil               \n",
       "7456     False   adilkhash  151436083       Adil               \n",
       "\n",
       "                       chatname  \n",
       "7467        Balgabekov_Yeldos()  \n",
       "7466  Sneddy_Пельмешка(cSneddy)  \n",
       "7465        _Дархан(hoogleraar)  \n",
       "7464          Alimbekov_Renat()  \n",
       "7462  Sneddy_Пельмешка(cSneddy)  \n",
       "7461           _Adil(adilkhash)  \n",
       "7460           _Adil(adilkhash)  \n",
       "7459           _Adil(adilkhash)  \n",
       "7457           _Adil(adilkhash)  \n",
       "7456           _Adil(adilkhash)  "
      ]
     },
     "execution_count": 8,
     "metadata": {},
     "output_type": "execute_result"
    }
   ],
   "source": [
    "import nltk\n",
    "from nltk.corpus import stopwords\n",
    "nltk.download('punkt')\n",
    "nltk.download('stopwords')\n",
    "\n",
    "def tokenize_me(file_text):\n",
    "    #firstly let's apply nltk tokenization\n",
    "    tokens = nltk.word_tokenize(file_text)\n",
    "\n",
    "    #deleting stop_words\n",
    "    stop_words = stopwords.words('russian')\n",
    "    stop_words.extend(['что', 'это', 'так', 'вот', 'быть', 'как', 'в', '—', 'к', 'на'])\n",
    "    stop_words.extend(stopwords.words('english'))\n",
    "    tokens = [i for i in tokens if ( i not in stop_words )]\n",
    "    \n",
    "    #cleaning words\n",
    "    tokens = [i.replace(\"«\", \"\").replace(\"»\", \"\") for i in tokens]\n",
    "\n",
    "    return ' '.join(tokens)\n",
    "\n",
    "corpus.text = corpus.text.apply(lambda x: tokenize_me(x))\n",
    "\n",
    "corpus.to_csv('dsml_tokens.csv', index=None)\n",
    "corpus.head(10)"
   ]
  },
  {
   "cell_type": "markdown",
   "metadata": {},
   "source": [
    "### Посмотрим, кто понапописал больше всех сообщений и наоставлял всяких стикеров"
   ]
  },
  {
   "cell_type": "code",
   "execution_count": 9,
   "metadata": {},
   "outputs": [
    {
     "data": {
      "text/plain": [
       "chatname\n",
       "Sneddy_Пельмешка(cSneddy)            866\n",
       "_Ерзат Книжка(higgsfield)            717\n",
       "_Дархан(hoogleraar)                  368\n",
       "_Adil(adilkhash)                     315\n",
       "Berdysh_Azamat(aberdysh)             277\n",
       "Abdikenov_Beibit()                   270\n",
       "_Aktan Akhmetov()                    263\n",
       "Alimbekov_Renat()                    263\n",
       "Taskynov_Anuar(TaskynovAnuar)        248\n",
       "Balgabekov_Yeldos()                  151\n",
       "Jaraisyn_Virus(Giganotosaurus)       145\n",
       "_TMT()                               128\n",
       "Krts_Dima()                          107\n",
       "Mamrayev_Galymbek()                   97\n",
       "_novitoll(novitoll)                   91\n",
       "_Sagimbayev Zhuldyzzhan(cruigo93)     87\n",
       "Maratkhan_Anuar(ardulat)              83\n",
       "_Жақсылық(zsabay)                     83\n",
       "Нурышев_Нуржан()                      76\n",
       "_Мухаммад(grizzly_puma)               70\n",
       "Name: text, dtype: int64"
      ]
     },
     "execution_count": 9,
     "metadata": {},
     "output_type": "execute_result"
    }
   ],
   "source": [
    "corpus.groupby('chatname')['text'].count().sort_values(ascending=False).head(20)"
   ]
  },
  {
   "cell_type": "code",
   "execution_count": 10,
   "metadata": {},
   "outputs": [
    {
     "data": {
      "text/plain": [
       "chatname\n",
       "_Ерзат Книжка(higgsfield)        42\n",
       "_Adil(adilkhash)                 18\n",
       "Sneddy_Пельмешка(cSneddy)        16\n",
       "Berdysh_Azamat(aberdysh)         10\n",
       "Amir_Miras(amirassov)             8\n",
       "_Aktan Akhmetov()                 7\n",
       "_Sid()                            6\n",
       "Datbayev_Alibek(datbayev)         4\n",
       "_TMT()                            4\n",
       "Айтпаев_Кайрат(KairatCVT)         3\n",
       "_novitoll(novitoll)               3\n",
       "Taskynov_Anuar(TaskynovAnuar)     3\n",
       "_Дархан(hoogleraar)               2\n",
       "_‏‏‎(rlymdk)                      2\n",
       "_Жақсылық(zsabay)                 2\n",
       "Мейрман_Аида(aidameirman)         2\n",
       "_Gaukhar(Gauka)                   2\n",
       "Нурышев_Нуржан()                  2\n",
       "A_Assel()                         2\n",
       "Maratkhan_Anuar(ardulat)          2\n",
       "Name: is_media, dtype: int64"
      ]
     },
     "execution_count": 10,
     "metadata": {},
     "output_type": "execute_result"
    }
   ],
   "source": [
    "corpus.groupby('chatname')['is_media'].sum().sort_values(ascending=False).astype(int).head(20)"
   ]
  },
  {
   "cell_type": "markdown",
   "metadata": {},
   "source": [
    "### Оценим число мало активных ребятишек\n",
    "Cначала посчитаем тех, кто хоть что-то написал"
   ]
  },
  {
   "cell_type": "code",
   "execution_count": 11,
   "metadata": {},
   "outputs": [
    {
     "data": {
      "text/plain": [
       "(273,)"
      ]
     },
     "execution_count": 11,
     "metadata": {},
     "output_type": "execute_result"
    }
   ],
   "source": [
    "corpus.writer_id.unique().shape"
   ]
  },
  {
   "cell_type": "code",
   "execution_count": 12,
   "metadata": {},
   "outputs": [
    {
     "data": {
      "text/plain": [
       "77"
      ]
     },
     "execution_count": 12,
     "metadata": {},
     "output_type": "execute_result"
    }
   ],
   "source": [
    "(corpus.groupby('chatname')['text'].count() > 10).sum()"
   ]
  },
  {
   "cell_type": "markdown",
   "metadata": {},
   "source": [
    "### Стало быть не менее 220 человек не писало ничего, принимало участие в обсуждениях всего около 90 человек"
   ]
  },
  {
   "cell_type": "markdown",
   "metadata": {},
   "source": [
    "### Посмотрим на приветствия и часто употребляемые слова \n",
    "Не скажу, что прям кпц аккуратно: просто брал первое сообщение, где увидел **hello** - символы, то я уже удалил"
   ]
  },
  {
   "cell_type": "code",
   "execution_count": 13,
   "metadata": {},
   "outputs": [
    {
     "data": {
      "text/html": [
       "<div>\n",
       "<style>\n",
       "    .dataframe thead tr:only-child th {\n",
       "        text-align: right;\n",
       "    }\n",
       "\n",
       "    .dataframe thead th {\n",
       "        text-align: left;\n",
       "    }\n",
       "\n",
       "    .dataframe tbody tr th {\n",
       "        vertical-align: top;\n",
       "    }\n",
       "</style>\n",
       "<table border=\"1\" class=\"dataframe\">\n",
       "  <thead>\n",
       "    <tr style=\"text-align: right;\">\n",
       "      <th></th>\n",
       "      <th>mes_date</th>\n",
       "      <th>text</th>\n",
       "    </tr>\n",
       "    <tr>\n",
       "      <th>chatname</th>\n",
       "      <th></th>\n",
       "      <th></th>\n",
       "    </tr>\n",
       "  </thead>\n",
       "  <tbody>\n",
       "    <tr>\n",
       "      <th>Abdulla_Bekzat()</th>\n",
       "      <td>2017-10-11 07:51:58</td>\n",
       "      <td>привет всем зовут бекзат учился экономиста наз...</td>\n",
       "    </tr>\n",
       "    <tr>\n",
       "      <th>Abilda_Sultan(abildin)</th>\n",
       "      <td>2017-11-01 15:11:53</td>\n",
       "      <td>hello султан бэкендер интересна сфера мл пока ...</td>\n",
       "    </tr>\n",
       "    <tr>\n",
       "      <th>Abishev_Alan(alanbaraban)</th>\n",
       "      <td>2017-10-10 12:31:46</td>\n",
       "      <td>привет всем зовут алан окончил southampton uni...</td>\n",
       "    </tr>\n",
       "    <tr>\n",
       "      <th>Adylova_Ayana()</th>\n",
       "      <td>2018-01-05 16:59:00</td>\n",
       "      <td>hello name ayana third year cs student rit int...</td>\n",
       "    </tr>\n",
       "    <tr>\n",
       "      <th>Adylova_Dana()</th>\n",
       "      <td>2018-01-06 03:48:02</td>\n",
       "      <td>hello guys dana joining interned microsoft ai ...</td>\n",
       "    </tr>\n",
       "    <tr>\n",
       "      <th>Akhmetzhanov_Askhat(askhatish)</th>\n",
       "      <td>2017-12-27 05:36:03</td>\n",
       "      <td>hello привет всем зовут асхат выпускник кбту р...</td>\n",
       "    </tr>\n",
       "    <tr>\n",
       "      <th>Aldabergenov_Aibek(aaldaber)</th>\n",
       "      <td>2017-12-08 04:17:51</td>\n",
       "      <td>всем привет айбек занимаюсь разработкой python...</td>\n",
       "    </tr>\n",
       "    <tr>\n",
       "      <th>Amanov_Alimzhan(simb4)</th>\n",
       "      <td>2017-10-10 17:04:23</td>\n",
       "      <td>всем привет зовут алимжан бытность школьником ...</td>\n",
       "    </tr>\n",
       "    <tr>\n",
       "      <th>Amir_Miras(amirassov)</th>\n",
       "      <td>2017-10-10 17:34:58</td>\n",
       "      <td>всем привет зовут мирас закончил бакалавр вмк ...</td>\n",
       "    </tr>\n",
       "    <tr>\n",
       "      <th>Asmatullayev_Saddam(sadda11_asm)</th>\n",
       "      <td>2017-12-28 13:12:48</td>\n",
       "      <td>hello name saddam nazarbayev university studen...</td>\n",
       "    </tr>\n",
       "  </tbody>\n",
       "</table>\n",
       "</div>"
      ],
      "text/plain": [
       "                                            mes_date  \\\n",
       "chatname                                               \n",
       "Abdulla_Bekzat()                 2017-10-11 07:51:58   \n",
       "Abilda_Sultan(abildin)           2017-11-01 15:11:53   \n",
       "Abishev_Alan(alanbaraban)        2017-10-10 12:31:46   \n",
       "Adylova_Ayana()                  2018-01-05 16:59:00   \n",
       "Adylova_Dana()                   2018-01-06 03:48:02   \n",
       "Akhmetzhanov_Askhat(askhatish)   2017-12-27 05:36:03   \n",
       "Aldabergenov_Aibek(aaldaber)     2017-12-08 04:17:51   \n",
       "Amanov_Alimzhan(simb4)           2017-10-10 17:04:23   \n",
       "Amir_Miras(amirassov)            2017-10-10 17:34:58   \n",
       "Asmatullayev_Saddam(sadda11_asm) 2017-12-28 13:12:48   \n",
       "\n",
       "                                                                               text  \n",
       "chatname                                                                             \n",
       "Abdulla_Bekzat()                  привет всем зовут бекзат учился экономиста наз...  \n",
       "Abilda_Sultan(abildin)            hello султан бэкендер интересна сфера мл пока ...  \n",
       "Abishev_Alan(alanbaraban)         привет всем зовут алан окончил southampton uni...  \n",
       "Adylova_Ayana()                   hello name ayana third year cs student rit int...  \n",
       "Adylova_Dana()                    hello guys dana joining interned microsoft ai ...  \n",
       "Akhmetzhanov_Askhat(askhatish)    hello привет всем зовут асхат выпускник кбту р...  \n",
       "Aldabergenov_Aibek(aaldaber)      всем привет айбек занимаюсь разработкой python...  \n",
       "Amanov_Alimzhan(simb4)            всем привет зовут алимжан бытность школьником ...  \n",
       "Amir_Miras(amirassov)             всем привет зовут мирас закончил бакалавр вмк ...  \n",
       "Asmatullayev_Saddam(sadda11_asm)  hello name saddam nazarbayev university studen...  "
      ]
     },
     "execution_count": 13,
     "metadata": {},
     "output_type": "execute_result"
    }
   ],
   "source": [
    "hello = corpus[corpus.text.apply(lambda x: 'hello' in x)]\n",
    "hello.groupby('chatname').first()[['mes_date', 'text']].head(10)"
   ]
  },
  {
   "cell_type": "code",
   "execution_count": 14,
   "metadata": {},
   "outputs": [
    {
     "data": {
      "text/plain": [
       "[('hello', 124),\n",
       " ('зовут', 43),\n",
       " ('ml', 36),\n",
       " ('всем', 33),\n",
       " ('привет', 30),\n",
       " ('работаю', 25),\n",
       " ('data', 25),\n",
       " ('мл', 21),\n",
       " ('science', 18),\n",
       " ('ds', 15),\n",
       " ('курс', 14),\n",
       " ('пока', 14),\n",
       " ('мгу', 13),\n",
       " ('интересуюсь', 12),\n",
       " ('учусь', 12),\n",
       " ('данных', 11),\n",
       " ('изучать', 11),\n",
       " ('изучаю', 10),\n",
       " ('python', 10),\n",
       " ('topic', 10),\n",
       " ('аналитиком', 9),\n",
       " ('student', 9),\n",
       " ('интересно', 8),\n",
       " ('студент', 8),\n",
       " ('learning', 8),\n",
       " ('момент', 7),\n",
       " ('закончил', 7),\n",
       " ('начал', 7),\n",
       " ('ai', 7),\n",
       " ('кбту', 7),\n",
       " ('отношение', 6),\n",
       " ('дс', 6),\n",
       " ('года', 6),\n",
       " ('курсы', 6),\n",
       " ('данный', 6),\n",
       " ('опыт', 6),\n",
       " ('phd', 6),\n",
       " ('scientist', 6),\n",
       " ('computer', 6),\n",
       " ('kz', 6)]"
      ]
     },
     "execution_count": 14,
     "metadata": {},
     "output_type": "execute_result"
    }
   ],
   "source": [
    "words = ' '.join(hello.text.values).split()\n",
    "words = filter(lambda w: not w.isdigit(), words)\n",
    "Counter(words).most_common(40)"
   ]
  },
  {
   "cell_type": "markdown",
   "metadata": {},
   "source": [
    "### Наивно предположим, что кто-нибудь будет город указывать в приветствии"
   ]
  },
  {
   "cell_type": "code",
   "execution_count": 15,
   "metadata": {},
   "outputs": [
    {
     "data": {
      "text/plain": [
       "(0, 4)"
      ]
     },
     "execution_count": 15,
     "metadata": {},
     "output_type": "execute_result"
    }
   ],
   "source": [
    "hello.text.apply(lambda x: 'астана' in x).sum(), hello.text.apply(lambda x: 'алматы' in x).sum()"
   ]
  },
  {
   "cell_type": "markdown",
   "metadata": {},
   "source": [
    "### Посмотрим на активность чатика по дням"
   ]
  },
  {
   "cell_type": "code",
   "execution_count": 16,
   "metadata": {},
   "outputs": [
    {
     "data": {
      "text/plain": [
       "Text(0.5,1,'Число сообщений по дням')"
      ]
     },
     "execution_count": 16,
     "metadata": {},
     "output_type": "execute_result"
    },
    {
     "data": {
      "image/png": "[encoded data removed]",
      "text/plain": [
       "<matplotlib.figure.Figure at 0x7f4585cfcc88>"
      ]
     },
     "metadata": {},
     "output_type": "display_data"
    }
   ],
   "source": [
    "import matplotlib.pylab as plt\n",
    "%matplotlib inline\n",
    "\n",
    "corpus.groupby(corpus.mes_date.dt.date).count().mes_date.plot(figsize=(24,5))\n",
    "plt.title('Число сообщений по дням', fontsize=18)"
   ]
  },
  {
   "cell_type": "markdown",
   "metadata": {},
   "source": [
    "### И по времени: как видим максимум неплохо коррелирует с рабочим днем:)\n",
    "\n",
    "Пришел на работу - открыл чатик. Все правильно сделал!"
   ]
  },
  {
   "cell_type": "code",
   "execution_count": 17,
   "metadata": {},
   "outputs": [
    {
     "data": {
      "image/png": "[encoded data removed]",
      "text/plain": [
       "<matplotlib.figure.Figure at 0x7f457db24278>"
      ]
     },
     "metadata": {},
     "output_type": "display_data"
    }
   ],
   "source": [
    "import matplotlib.pylab as plt\n",
    "%matplotlib inline\n",
    "\n",
    "corpus.groupby(corpus.mes_date.dt.hour).count().mes_date.plot(figsize=(24,5))\n",
    "plt.title('Число сообщений по времени дня', fontsize=18)\n",
    "plt.xticks(range(24))\n",
    "plt.show()"
   ]
  },
  {
   "cell_type": "markdown",
   "metadata": {},
   "source": [
    "### Тематическая модель по неделям\n",
    "\n",
    "В общем-то всюду ниже трэш - можно не смотреть."
   ]
  },
  {
   "cell_type": "code",
   "execution_count": 18,
   "metadata": {},
   "outputs": [
    {
     "name": "stdout",
     "output_type": "stream",
     "text": [
      "(17, 16471)\n",
      "[('просто', 194), ('data', 165), ('очень', 163), ('всем', 160), ('данных', 152), ('ml', 150), ('курс', 142), ('вообще', 126), ('hello', 124), ('привет', 119)]\n"
     ]
    }
   ],
   "source": [
    "day_text = corpus.groupby(corpus.mes_date.apply(lambda x: x.week)).agg(lambda x: ' '.join(x))['text']\n",
    "from sklearn.feature_extraction.text import CountVectorizer\n",
    "vectorizer = CountVectorizer(min_df=0.05, max_df=0.999)\n",
    "counts = vectorizer.fit_transform(day_text)\n",
    "print(counts.shape)\n",
    "print(Counter(' '.join(day_text.values).split()).most_common(10))\n",
    "\n",
    "corpus_id2word = {value: key for key, value in vectorizer.vocabulary_.items()}"
   ]
  },
  {
   "cell_type": "code",
   "execution_count": 19,
   "metadata": {},
   "outputs": [
    {
     "name": "stdout",
     "output_type": "stream",
     "text": [
      "['просто', 'data', 'очень', 'данных', 'ml', 'курс', 'вообще', 'hello', 'learning', 'вроде', 'спасибо', 'пока', 'интересно', 'нужно', 'python', 'думаю', 'например', 'ds', 'topic', 'знаю']\n",
      "['куче', 'ноутбуке', 'ноуте', 'ноуты', 'ночи', 'ночь', 'нравиться', 'нравятся', 'нуждались', 'нужну', 'ноут', 'нужную', 'нужный', 'нулевым', 'нумерация', 'нур', 'нургалиева', 'нургельды', 'нуржана', 'нурике']\n"
     ]
    }
   ],
   "source": [
    "import gensim\n",
    "\n",
    "gensim_corpus = gensim.matutils.Scipy2Corpus(counts)\n",
    "print([corpus_id2word[elem] for elem in np.argsort(np.array(counts.sum(axis=0)).ravel())[-20:][::-1]])\n",
    "print([corpus_id2word[elem] for elem in np.argsort(np.array(counts.sum(axis=0)).ravel())[:20]])"
   ]
  },
  {
   "cell_type": "code",
   "execution_count": 28,
   "metadata": {},
   "outputs": [
    {
     "name": "stdout",
     "output_type": "stream",
     "text": [
      "ELBO = -434951.2142, time: 37 seconds\n"
     ]
    }
   ],
   "source": [
    "num_topics = 5  # число тем в модели LDA\n",
    "alpha = [0.1] * num_topics\n",
    "current_iter = 50  # число итераций вариационного вывода\n",
    "current_passes = 50  # число проходов по датасету\n",
    "alpha_value = 0.1\n",
    "\n",
    "score_dict = {}\n",
    "time_dict = {}\n",
    "t_start = time()\n",
    "lda = gensim.models.LdaModel(\n",
    "    corpus=gensim_corpus,\n",
    "    passes=current_passes,\n",
    "    num_topics=num_topics,\n",
    "    alpha=[alpha_value] * num_topics,\n",
    "    iterations=current_iter,\n",
    "    id2word=corpus_id2word,\n",
    "    eval_every=0,\n",
    "    random_state=1204\n",
    ")\n",
    "current_score = lda.bound(gensim_corpus)\n",
    "score_dict[alpha_value] = current_score\n",
    "time_ellapsed = int(time() - t_start)\n",
    "time_dict[alpha_value] = time_ellapsed\n",
    "print('ELBO = {1:.4f}, time: {2} seconds'.format(\n",
    "    alpha_value, current_score, time_ellapsed))"
   ]
  },
  {
   "cell_type": "code",
   "execution_count": 29,
   "metadata": {},
   "outputs": [
    {
     "data": {
      "text/plain": [
       "(17, 5)"
      ]
     },
     "execution_count": 29,
     "metadata": {},
     "output_type": "execute_result"
    }
   ],
   "source": [
    "gamma, _ = lda.inference(gensim_corpus)\n",
    "gamma = gamma / gamma.sum(1).reshape(-1, 1)\n",
    "gamma.shape"
   ]
  },
  {
   "cell_type": "code",
   "execution_count": 32,
   "metadata": {},
   "outputs": [
    {
     "name": "stdout",
     "output_type": "stream",
     "text": [
      "0 topic: новым, годом, data, очень, данных, спасибо, вроде, hello, learning, просто, np, пока, ml, зовут, optimization, поэтому, кз, нужно, phd, этим\n",
      "1 topic: topic, probability, данных, курс, data, просто, вообще, например, очень, learning, ещё, вроде, курса, анализа, ml, который, пока, спасибо, dl, big\n",
      "2 topic: ml, hello, очень, данных, вроде, вообще, data, интересно, просто, ещё, курс, сколько, нужно, ds, которые, который, давайте, python, зовут, сду\n",
      "3 topic: просто, очень, ml, вообще, пока, курс, learning, вроде, data, данных, python, hello, думаю, ds, знаю, нужно, спасибо, работы, phd, например\n",
      "4 topic: data, просто, ml, курс, hello, очень, спасибо, интересно, данных, learning, вообще, зовут, курсы, science, ds, думаю, задачи, например, пока, нужно\n"
     ]
    }
   ],
   "source": [
    "for topic_index in range(lda.num_topics):\n",
    "    print('{} topic:'.format(topic_index), ', '.join(list(zip(*lda.show_topic(topic_index, topn=20)))[0]))"
   ]
  },
  {
   "cell_type": "code",
   "execution_count": 33,
   "metadata": {},
   "outputs": [
    {
     "name": "stdout",
     "output_type": "stream",
     "text": [
      "Topic 0\n",
      "Topic probability: 100.0%, 47\n",
      "Topic probability: 100.0%, 52\n",
      "\n",
      "Topic 1\n",
      "Topic probability: 100.0%, 46\n",
      "Topic probability: 100.0%, 50\n",
      "Topic probability: 100.0%, 4\n",
      "Topic probability: 99.6%, 40\n",
      "\n",
      "Topic 2\n",
      "Topic probability: 100.0%, 2\n",
      "Topic probability: 100.0%, 49\n",
      "Topic probability: 100.0%, 48\n",
      "\n",
      "Topic 3\n",
      "Topic probability: 100.0%, 44\n",
      "Topic probability: 100.0%, 3\n",
      "Topic probability: 100.0%, 43\n",
      "Topic probability: 100.0%, 45\n",
      "\n",
      "Topic 4\n",
      "Topic probability: 100.0%, 41\n",
      "Topic probability: 100.0%, 42\n",
      "Topic probability: 100.0%, 51\n",
      "Topic probability: 99.9%, 1\n",
      "\n"
     ]
    }
   ],
   "source": [
    "for topic_index in range(num_topics):\n",
    "    print('Topic {0}'.format(topic_index))\n",
    "    best_doc_indexes = gamma[:, topic_index].argsort()[-10:][::-1]\n",
    "    for doc in best_doc_indexes:\n",
    "        if gamma[doc, topic_index] > 0.01:\n",
    "            print('Topic probability: {0:.1%}, {1}'.format(gamma[doc, topic_index], day_text.index[doc]))\n",
    "    print()"
   ]
  },
  {
   "cell_type": "markdown",
   "metadata": {},
   "source": [
    "### Тематическая модель по пользователям"
   ]
  },
  {
   "cell_type": "code",
   "execution_count": 34,
   "metadata": {},
   "outputs": [
    {
     "name": "stdout",
     "output_type": "stream",
     "text": [
      "(28, 1925)\n",
      "[('просто', 194), ('data', 165), ('очень', 163), ('всем', 160), ('данных', 152), ('ml', 150), ('курс', 142), ('вообще', 126), ('hello', 124), ('привет', 119)]\n"
     ]
    }
   ],
   "source": [
    "users_text = corpus[corpus.chatname.map((corpus.groupby('chatname')['text'].count() > 50))]\n",
    "\n",
    "users_text = users_text.groupby('chatname').agg(lambda x: ' '.join(x))['text']\n",
    "from sklearn.feature_extraction.text import CountVectorizer\n",
    "vectorizer = CountVectorizer(min_df=0.1, max_df=0.95)\n",
    "counts = vectorizer.fit_transform(users_text)\n",
    "print(counts.shape)\n",
    "print(Counter(' '.join(day_text.values).split()).most_common(10))\n",
    "\n",
    "corpus_id2word = {value: key for key, value in vectorizer.vocabulary_.items()}"
   ]
  },
  {
   "cell_type": "code",
   "execution_count": 35,
   "metadata": {},
   "outputs": [
    {
     "name": "stdout",
     "output_type": "stream",
     "text": [
      "['просто', 'очень', 'курс', 'данных', 'вообще', 'вроде', 'learning', 'data', 'ml', 'например', 'нужно', 'пока', 'кстати', 'поэтому', 'probability', 'думаю', 'интересно', 'знаю', 'всем', 'которые']\n",
      "['мнение', 'мощная', 'придет', 'доступе', 'доступны', 'сторону', 'наверняка', 'youtube', 'навык', 'yandexdatafactory', 'подобное', 'придумал', 'редкий', 'назвать', 'would', 'другая', 'страниц', 'words', 'without', 'регрессоры']\n"
     ]
    }
   ],
   "source": [
    "import gensim\n",
    "\n",
    "gensim_corpus = gensim.matutils.Scipy2Corpus(counts)\n",
    "print([corpus_id2word[elem] for elem in np.argsort(np.array(counts.sum(axis=0)).ravel())[-20:][::-1]])\n",
    "print([corpus_id2word[elem] for elem in np.argsort(np.array(counts.sum(axis=0)).ravel())[:20]])"
   ]
  },
  {
   "cell_type": "code",
   "execution_count": 36,
   "metadata": {},
   "outputs": [
    {
     "name": "stdout",
     "output_type": "stream",
     "text": [
      "ELBO = -128876.4391, time: 8 seconds\n"
     ]
    }
   ],
   "source": [
    "from tqdm import tqdm_notebook\n",
    "\n",
    "num_topics = 10  # число тем в модели LDA\n",
    "alpha = [0.1] * num_topics\n",
    "current_iter = 20  # число итераций вариационного вывода\n",
    "current_passes = 50  # число проходов по датасету\n",
    "alpha_value = 0.1\n",
    "\n",
    "score_dict = {}\n",
    "time_dict = {}\n",
    "t_start = time()\n",
    "lda = gensim.models.LdaModel(\n",
    "    corpus=gensim_corpus,\n",
    "    passes=current_passes,\n",
    "    num_topics=num_topics,\n",
    "    alpha=[alpha_value] * num_topics,\n",
    "    iterations=current_iter,\n",
    "    id2word=corpus_id2word,\n",
    "    eval_every=0,\n",
    "    random_state=1204\n",
    ")\n",
    "current_score = lda.bound(gensim_corpus)\n",
    "score_dict[alpha_value] = current_score\n",
    "time_ellapsed = int(time() - t_start)\n",
    "time_dict[alpha_value] = time_ellapsed\n",
    "print('ELBO = {1:.4f}, time: {2} seconds'.format(\n",
    "    alpha_value, current_score, time_ellapsed))"
   ]
  },
  {
   "cell_type": "code",
   "execution_count": 37,
   "metadata": {},
   "outputs": [
    {
     "data": {
      "text/plain": [
       "(28, 10)"
      ]
     },
     "execution_count": 37,
     "metadata": {},
     "output_type": "execute_result"
    }
   ],
   "source": [
    "gamma, _ = lda.inference(gensim_corpus)\n",
    "gamma = gamma / gamma.sum(1).reshape(-1, 1)\n",
    "gamma.shape"
   ]
  },
  {
   "cell_type": "code",
   "execution_count": 67,
   "metadata": {},
   "outputs": [
    {
     "name": "stdout",
     "output_type": "stream",
     "text": [
      "0 topic :        Москва      :    курс, phd, шаде, помню, мгу, проходил, лол, вроде, уметь, типа, интересно, код, хм, курса, курсы, ml, собственно, шад, рекомендую, введение\n",
      "1 topic :                    :    рахмет, будут, курсы, интересно, кажется, типа, астане, мл, хотя, пятницу, которые, engineer, вроде, знает, хотел, поэтому, кого, mit, cv, митап\n",
      "2 topic :     optimisation   :    theory, ml, etc, learning, na, like, non, linear, например, np, optimization, очень, number, matrix, probability, который, convex, point, deep, понял\n",
      "3 topic :        книги       :    ds, книга, acm, одна, вроде, learning, ml, очень, астане, слова, самых, темы, написана, шада, читается, покрывает, boyd, org, data, поэтому\n",
      "4 topic :        dl/rl       :    просто, вообще, очень, щас, rl, learning, например, курс, dl, поэтому, ага, которые, типо, данных, который, круто, кз, deep, курса, дальше\n",
      "5 topic :       Бухать!      :    спасибо, cs229, знаю, нить, время, круто, пинта, 20, этому, времени, пишу, воронцова, нужно, курс, очень, learning, всем, сколько, думаю, тема\n",
      "6 topic :       Вопросы      :    150, matrix, очень, вроде, пока, начал, see, кого, работает, первый, целом, картинки, вчера, понимаю, error, number, просто, нужно, сколько, могу\n",
      "7 topic :     Образование    :    probability, курс, думаю, нужно, очень, вообще, всем, вроде, тема, прям, дс, типо, норм, пока, такое, примерно, мб, мл, поэтому, прост\n",
      "8 topic :      Интересно     :    данных, просто, data, спасибо, вроде, знаю, python, ml, кстати, интересно, сколько, данные, такое, какие, всё, пока, привет, всем, хотя, ещё\n",
      "9 topic :  Вопросы по теории :    курс, очень, probability, вообще, ml, просто, learning, всем, theory, данных, поэтому, вроде, думаю, data, например, знаю, понял, нужно, na, кстати\n"
     ]
    }
   ],
   "source": [
    "topic_names = ['Москва', ' ', 'optimisation', 'книги', 'dl/rl', 'Бухать!', 'Вопросы', 'Образование', 'Интересно', 'Вопросы по теории']\n",
    "for topic_index in range(lda.num_topics):\n",
    "    print('{1} topic :  {0: ^18}:   '.format(topic_names[topic_index], topic_index), ', '.join(list(zip(*lda.show_topic(topic_index, topn=20)))[0]))"
   ]
  },
  {
   "cell_type": "code",
   "execution_count": 48,
   "metadata": {},
   "outputs": [
    {
     "name": "stdout",
     "output_type": "stream",
     "text": [
      "Topic 0 - Москва\n",
      "Topic probability: 43.2%, Taskynov_Anuar(TaskynovAnuar)\n",
      "Topic probability: 0.1%, _‏‏‎(rlymdk)\n",
      "Topic probability: 0.1%, _45954(Hmmmmm123)\n",
      "\n",
      "Topic 1 -  \n",
      "Topic probability: 99.7%, _novitoll(novitoll)\n",
      "Topic probability: 99.5%, Makhmudov_Lecha(otrakid)\n",
      "Topic probability: 99.1%, _‏‏‎(rlymdk)\n",
      "Topic probability: 51.9%, Mamrayev_Galymbek()\n",
      "Topic probability: 12.3%, Maratkhan_Anuar(ardulat)\n",
      "\n",
      "Topic 2 - optimisation\n",
      "Topic probability: 99.9%, Berdysh_Azamat(aberdysh)\n",
      "Topic probability: 31.0%, _Жақсылық(zsabay)\n",
      "Topic probability: 21.7%, _Aktan Akhmetov()\n",
      "Topic probability: 13.1%, Maratkhan_Anuar(ardulat)\n",
      "Topic probability: 11.3%, Z_Almaz(almaz_zinollayev)\n",
      "Topic probability: 5.3%, Abdikenov_Beibit()\n",
      "\n",
      "Topic 3 - книги\n",
      "Topic probability: 99.5%, Дуйсенбаев_Азамат(azicon)\n",
      "Topic probability: 0.1%, _‏‏‎(rlymdk)\n",
      "Topic probability: 0.1%, _45954(Hmmmmm123)\n",
      "\n",
      "Topic 4 - dl/rl\n",
      "Topic probability: 99.5%, _Ерзат Книжка(higgsfield)\n",
      "Topic probability: 54.8%, _45954(Hmmmmm123)\n",
      "Topic probability: 38.0%, Z_Almaz(almaz_zinollayev)\n",
      "Topic probability: 35.4%, Raimkulov_Azat(AzatRZ)\n",
      "Topic probability: 34.4%, Maratkhan_Anuar(ardulat)\n",
      "Topic probability: 24.0%, _Мухаммад(grizzly_puma)\n",
      "Topic probability: 13.6%, _Aktan Akhmetov()\n",
      "Topic probability: 11.5%, _Дархан(hoogleraar)\n",
      "Topic probability: 5.7%, Jaraisyn_Virus(Giganotosaurus)\n",
      "Topic probability: 4.6%, Taskynov_Anuar(TaskynovAnuar)\n",
      "\n",
      "Topic 5 - Бухать!\n",
      "Topic probability: 99.4%, _Sagimbayev Zhuldyzzhan(cruigo93)\n",
      "Topic probability: 0.1%, _‏‏‎(rlymdk)\n",
      "Topic probability: 0.1%, _45954(Hmmmmm123)\n",
      "\n",
      "Topic 6 - Вопросы\n",
      "Topic probability: 99.8%, Balgabekov_Yeldos()\n",
      "Topic probability: 0.1%, _‏‏‎(rlymdk)\n",
      "Topic probability: 0.1%, _45954(Hmmmmm123)\n",
      "\n",
      "Topic 7 - Образование\n",
      "Topic probability: 99.6%, _TMT()\n",
      "Topic probability: 94.4%, Abdikenov_Beibit()\n",
      "Topic probability: 86.9%, Sneddy_Пельмешка(cSneddy)\n",
      "Topic probability: 75.7%, _Мухаммад(grizzly_puma)\n",
      "Topic probability: 54.8%, _Дархан(hoogleraar)\n",
      "Topic probability: 36.6%, Taskynov_Anuar(TaskynovAnuar)\n",
      "Topic probability: 28.2%, Amir_Miras(amirassov)\n",
      "Topic probability: 10.7%, _Aktan Akhmetov()\n",
      "Topic probability: 9.0%, Maratkhan_Anuar(ardulat)\n",
      "\n",
      "Topic 8 - Интересно...\n",
      "Topic probability: 99.8%, Alimbekov_Renat()\n",
      "Topic probability: 99.7%, Нурышев_Нуржан()\n",
      "Topic probability: 99.7%, Krts_Dima()\n",
      "Topic probability: 99.6%, Panaberdiyev_Yerbol()\n",
      "Topic probability: 99.5%, _Adil(adilkhash)\n",
      "Topic probability: 94.0%, Jaraisyn_Virus(Giganotosaurus)\n",
      "Topic probability: 71.5%, Amir_Miras(amirassov)\n",
      "Topic probability: 68.5%, _Жақсылық(zsabay)\n",
      "Topic probability: 64.3%, Raimkulov_Azat(AzatRZ)\n",
      "Topic probability: 53.9%, _Aktan Akhmetov()\n",
      "\n",
      "Topic 9 - Вопросы по теории\n",
      "Topic probability: 0.1%, _‏‏‎(rlymdk)\n",
      "Topic probability: 0.1%, _45954(Hmmmmm123)\n",
      "Topic probability: 0.1%, _Sagimbayev Zhuldyzzhan(cruigo93)\n",
      "\n"
     ]
    }
   ],
   "source": [
    "for topic_index in range(10):\n",
    "    print('Topic {0} - {1}'.format(topic_index, topic_names[topic_index]))\n",
    "    best_doc_indexes = gamma[:, topic_index].argsort()[-10:][::-1]\n",
    "    for person_count, doc in enumerate(best_doc_indexes):\n",
    "        if gamma[doc, topic_index] > 0.01 or person_count<3:\n",
    "            print('Topic probability: {0:.1%}, {1}'.format(gamma[doc, topic_index], users_text.index[doc]))\n",
    "    print()"
   ]
  },
  {
   "cell_type": "code",
   "execution_count": null,
   "metadata": {
    "collapsed": true
   },
   "outputs": [],
   "source": []
  }
 ],
 "metadata": {
  "kernelspec": {
   "display_name": "Python 3",
   "language": "python",
   "name": "python3"
  },
  "language_info": {
   "codemirror_mode": {
    "name": "ipython",
    "version": 3
   },
   "file_extension": ".py",
   "mimetype": "text/x-python",
   "name": "python",
   "nbconvert_exporter": "python",
   "pygments_lexer": "ipython3",
   "version": "3.6.3"
  }
 },
 "nbformat": 4,
 "nbformat_minor": 2
}
